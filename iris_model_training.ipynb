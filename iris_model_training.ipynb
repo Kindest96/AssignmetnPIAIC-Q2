{
 "cells": [
  {
   "cell_type": "markdown",
   "metadata": {},
   "source": [
    "# ASSIGNMENT : IRIS MULTI-CLASS CLASSIFICATION\n",
    "\n",
    "###### Purpose :\n",
    "To predict the species of flower .\n",
    "###### Description :\n",
    "The dataset contains a set of 150 records under 5 attributes - Petal Length, Petal Width, Sepal Length, Sepal width and Class(Species).\n",
    "###### Requirements :\n",
    "1) Code must be in tf 2.0 .\n",
    "\n",
    "2) Accuracy must be in between 95-97% .\n",
    "\n",
    "3) Model shouldn't be Overfit (You can add drop out layer for this) ."
   ]
  },
  {
   "cell_type": "markdown",
   "metadata": {},
   "source": [
    "### STEP 1 : Load all the necessary libraries "
   ]
  },
  {
   "cell_type": "code",
   "execution_count": 1,
   "metadata": {},
   "outputs": [
    {
     "name": "stdout",
     "output_type": "stream",
     "text": [
      "2.0.0\n"
     ]
    },
    {
     "name": "stderr",
     "output_type": "stream",
     "text": [
      "Using TensorFlow backend.\n"
     ]
    }
   ],
   "source": [
    "import csv\n",
    "import numpy as np\n",
    "import pandas as pd\n",
    "import tensorflow as tf\n",
    "from keras.utils import to_categorical\n",
    "\n",
    "print(tf.__version__)"
   ]
  },
  {
   "cell_type": "code",
   "execution_count": null,
   "metadata": {},
   "outputs": [],
   "source": []
  },
  {
   "cell_type": "markdown",
   "metadata": {},
   "source": [
    "### STEP 2 : Data Preparation\n",
    "This step consists of multiple sub steps from data loading [download](https://github.com/ramsha275/PIAIC-Sir-Anees-Quarter-2/blob/master/Deep%20Learning/iris.csv),shuffling ,spliting in **Train** and **Test** sets to one-hot-enconding on labels . \n"
   ]
  },
  {
   "cell_type": "code",
   "execution_count": 2,
   "metadata": {},
   "outputs": [],
   "source": [
    "\n",
    "\n",
    "training_data = pd.read_csv('iris.csv')\n",
    "\n",
    "training_data = training_data.sample(frac=1)\n",
    "\n",
    "train_data = training_data.iloc[0:100,0:4]\n",
    "test_data = training_data.iloc[99:150,0:4]\n",
    "\n",
    "train_labels = training_data.iloc[0:100,-1:].replace({'Versicolor':0, 'Setosa':1, 'Virginica':2})\n",
    "test_labels = training_data.iloc[99:150,-1:].replace({'Versicolor':0, 'Setosa':1, 'Virginica':2})\n",
    "\n",
    "#print(train_label)\n",
    "\n",
    "train_labels = to_categorical(train_labels)\n",
    "\n",
    "test_labels = to_categorical(test_labels)\n",
    "\n",
    "#train_label.shape\n",
    "#train_labels"
   ]
  },
  {
   "cell_type": "code",
   "execution_count": 3,
   "metadata": {},
   "outputs": [],
   "source": [
    "mean = train_data.mean(axis=0)\n",
    "train_data -= mean\n",
    "std = train_data.std(axis=0)\n",
    "train_data /= std\n",
    "\n",
    "test_data -= mean\n",
    "test_data /= std\n",
    "\n",
    "#test_data"
   ]
  },
  {
   "cell_type": "markdown",
   "metadata": {},
   "source": [
    "### STEP 3 : Model Architecture \n",
    "\n",
    "\n",
    "###### Input : 4 \n",
    "###### 1 hidden Layer : 8 nodes\n",
    "###### Output : 3"
   ]
  },
  {
   "cell_type": "code",
   "execution_count": 4,
   "metadata": {},
   "outputs": [],
   "source": [
    "from keras import models\n",
    "from keras import layers\n",
    "\n",
    "model = models.Sequential()\n",
    "model.add(layers.Dense(8, activation='relu', input_shape=(4,)))\n",
    "model.add(layers.Dense(3, activation='softmax'))\n"
   ]
  },
  {
   "cell_type": "markdown",
   "metadata": {},
   "source": [
    "### STEP 4 : Compilation Step "
   ]
  },
  {
   "cell_type": "code",
   "execution_count": 8,
   "metadata": {
    "scrolled": true
   },
   "outputs": [
    {
     "name": "stdout",
     "output_type": "stream",
     "text": [
      "Epoch 1/50\n",
      "100/100 [==============================] - 0s 371us/step - loss: 0.8798 - accuracy: 0.7000\n",
      "Epoch 2/50\n",
      "100/100 [==============================] - 0s 10us/step - loss: 0.8683 - accuracy: 0.7100\n",
      "Epoch 3/50\n",
      "100/100 [==============================] - 0s 10us/step - loss: 0.8599 - accuracy: 0.7100\n",
      "Epoch 4/50\n",
      "100/100 [==============================] - 0s 10us/step - loss: 0.8530 - accuracy: 0.7200\n",
      "Epoch 5/50\n",
      "100/100 [==============================] - 0s 20us/step - loss: 0.8467 - accuracy: 0.7200\n",
      "Epoch 6/50\n",
      "100/100 [==============================] - 0s 10us/step - loss: 0.8410 - accuracy: 0.7200\n",
      "Epoch 7/50\n",
      "100/100 [==============================] - 0s 20us/step - loss: 0.8357 - accuracy: 0.7200\n",
      "Epoch 8/50\n",
      "100/100 [==============================] - 0s 10us/step - loss: 0.8308 - accuracy: 0.7200\n",
      "Epoch 9/50\n",
      "100/100 [==============================] - 0s 10us/step - loss: 0.8261 - accuracy: 0.7200\n",
      "Epoch 10/50\n",
      "100/100 [==============================] - 0s 10us/step - loss: 0.8216 - accuracy: 0.7200\n",
      "Epoch 11/50\n",
      "100/100 [==============================] - 0s 20us/step - loss: 0.8172 - accuracy: 0.7200\n",
      "Epoch 12/50\n",
      "100/100 [==============================] - 0s 10us/step - loss: 0.8130 - accuracy: 0.7300\n",
      "Epoch 13/50\n",
      "100/100 [==============================] - 0s 10us/step - loss: 0.8089 - accuracy: 0.7300\n",
      "Epoch 14/50\n",
      "100/100 [==============================] - 0s 10us/step - loss: 0.8048 - accuracy: 0.7300\n",
      "Epoch 15/50\n",
      "100/100 [==============================] - 0s 10us/step - loss: 0.8008 - accuracy: 0.7400\n",
      "Epoch 16/50\n",
      "100/100 [==============================] - 0s 10us/step - loss: 0.7969 - accuracy: 0.7400\n",
      "Epoch 17/50\n",
      "100/100 [==============================] - 0s 20us/step - loss: 0.7930 - accuracy: 0.7400\n",
      "Epoch 18/50\n",
      "100/100 [==============================] - 0s 10us/step - loss: 0.7892 - accuracy: 0.7400\n",
      "Epoch 19/50\n",
      "100/100 [==============================] - 0s 10us/step - loss: 0.7854 - accuracy: 0.7400\n",
      "Epoch 20/50\n",
      "100/100 [==============================] - 0s 20us/step - loss: 0.7816 - accuracy: 0.7400\n",
      "Epoch 21/50\n",
      "100/100 [==============================] - 0s 10us/step - loss: 0.7779 - accuracy: 0.7400\n",
      "Epoch 22/50\n",
      "100/100 [==============================] - 0s 10us/step - loss: 0.7741 - accuracy: 0.7400\n",
      "Epoch 23/50\n",
      "100/100 [==============================] - 0s 10us/step - loss: 0.7704 - accuracy: 0.7400\n",
      "Epoch 24/50\n",
      "100/100 [==============================] - 0s 10us/step - loss: 0.7668 - accuracy: 0.7400\n",
      "Epoch 25/50\n",
      "100/100 [==============================] - 0s 10us/step - loss: 0.7632 - accuracy: 0.7600\n",
      "Epoch 26/50\n",
      "100/100 [==============================] - 0s 20us/step - loss: 0.7596 - accuracy: 0.7600\n",
      "Epoch 27/50\n",
      "100/100 [==============================] - 0s 10us/step - loss: 0.7560 - accuracy: 0.7600\n",
      "Epoch 28/50\n",
      "100/100 [==============================] - 0s 20us/step - loss: 0.7524 - accuracy: 0.7600\n",
      "Epoch 29/50\n",
      "100/100 [==============================] - 0s 10us/step - loss: 0.7489 - accuracy: 0.7600\n",
      "Epoch 30/50\n",
      "100/100 [==============================] - 0s 10us/step - loss: 0.7454 - accuracy: 0.7600\n",
      "Epoch 31/50\n",
      "100/100 [==============================] - 0s 0us/step - loss: 0.7419 - accuracy: 0.7600\n",
      "Epoch 32/50\n",
      "100/100 [==============================] - 0s 20us/step - loss: 0.7384 - accuracy: 0.7600\n",
      "Epoch 33/50\n",
      "100/100 [==============================] - 0s 10us/step - loss: 0.7349 - accuracy: 0.7700\n",
      "Epoch 34/50\n",
      "100/100 [==============================] - 0s 10us/step - loss: 0.7315 - accuracy: 0.7700\n",
      "Epoch 35/50\n",
      "100/100 [==============================] - 0s 20us/step - loss: 0.7280 - accuracy: 0.7900\n",
      "Epoch 36/50\n",
      "100/100 [==============================] - 0s 10us/step - loss: 0.7246 - accuracy: 0.7900\n",
      "Epoch 37/50\n",
      "100/100 [==============================] - 0s 10us/step - loss: 0.7212 - accuracy: 0.7800\n",
      "Epoch 38/50\n",
      "100/100 [==============================] - 0s 20us/step - loss: 0.7179 - accuracy: 0.7800\n",
      "Epoch 39/50\n",
      "100/100 [==============================] - 0s 10us/step - loss: 0.7145 - accuracy: 0.7800\n",
      "Epoch 40/50\n",
      "100/100 [==============================] - 0s 10us/step - loss: 0.7112 - accuracy: 0.7800\n",
      "Epoch 41/50\n",
      "100/100 [==============================] - 0s 10us/step - loss: 0.7078 - accuracy: 0.7800\n",
      "Epoch 42/50\n",
      "100/100 [==============================] - 0s 10us/step - loss: 0.7045 - accuracy: 0.7800\n",
      "Epoch 43/50\n",
      "100/100 [==============================] - 0s 20us/step - loss: 0.7012 - accuracy: 0.7800\n",
      "Epoch 44/50\n",
      "100/100 [==============================] - 0s 10us/step - loss: 0.6979 - accuracy: 0.7800\n",
      "Epoch 45/50\n",
      "100/100 [==============================] - 0s 20us/step - loss: 0.6946 - accuracy: 0.7800\n",
      "Epoch 46/50\n",
      "100/100 [==============================] - 0s 10us/step - loss: 0.6913 - accuracy: 0.7800\n",
      "Epoch 47/50\n",
      "100/100 [==============================] - 0s 20us/step - loss: 0.6881 - accuracy: 0.7800\n",
      "Epoch 48/50\n",
      "100/100 [==============================] - 0s 10us/step - loss: 0.6848 - accuracy: 0.7900\n",
      "Epoch 49/50\n",
      "100/100 [==============================] - 0s 10us/step - loss: 0.6816 - accuracy: 0.7900\n",
      "Epoch 50/50\n",
      "100/100 [==============================] - 0s 10us/step - loss: 0.6784 - accuracy: 0.7900\n"
     ]
    },
    {
     "data": {
      "text/plain": [
       "<keras.callbacks.callbacks.History at 0x21d2e639f60>"
      ]
     },
     "execution_count": 8,
     "metadata": {},
     "output_type": "execute_result"
    }
   ],
   "source": [
    "model.compile(optimizer='rmsprop', loss='categorical_crossentropy', metrics=['accuracy'])\n",
    "\n",
    "model.fit(train_data, train_labels, epochs=50, batch_size=512)"
   ]
  },
  {
   "cell_type": "markdown",
   "metadata": {},
   "source": [
    "### STEP 5 : Evaluation "
   ]
  },
  {
   "cell_type": "code",
   "execution_count": 9,
   "metadata": {},
   "outputs": [
    {
     "name": "stdout",
     "output_type": "stream",
     "text": [
      "51/51 [==============================] - 0s 275us/step\n"
     ]
    },
    {
     "data": {
      "text/plain": [
       "[0.631126255381341, 0.8039215803146362]"
      ]
     },
     "execution_count": 9,
     "metadata": {},
     "output_type": "execute_result"
    }
   ],
   "source": [
    "model.evaluate(test_data, test_labels)"
   ]
  },
  {
   "cell_type": "markdown",
   "metadata": {},
   "source": [
    "### STEP 6 : Prediction "
   ]
  },
  {
   "cell_type": "code",
   "execution_count": 10,
   "metadata": {},
   "outputs": [
    {
     "data": {
      "text/plain": [
       "array([[0.1433849 , 0.7428491 , 0.11376595],\n",
       "       [0.24438313, 0.6251808 , 0.13043612],\n",
       "       [0.33367127, 0.37738064, 0.2889481 ],\n",
       "       [0.12458499, 0.27172264, 0.60369235],\n",
       "       [0.15871206, 0.21295021, 0.6283377 ],\n",
       "       [0.24028209, 0.63686264, 0.12285534],\n",
       "       [0.55945337, 0.06372786, 0.37681884],\n",
       "       [0.15293261, 0.18521395, 0.6618534 ],\n",
       "       [0.09951688, 0.4504473 , 0.45003584],\n",
       "       [0.2045889 , 0.31965956, 0.47575152],\n",
       "       [0.16123165, 0.17255186, 0.6662165 ],\n",
       "       [0.23485556, 0.23349613, 0.53164834],\n",
       "       [0.33047184, 0.37379494, 0.29573324],\n",
       "       [0.3360693 , 0.2360289 , 0.42790177],\n",
       "       [0.2884858 , 0.14772795, 0.56378627],\n",
       "       [0.39689153, 0.28273183, 0.32037666],\n",
       "       [0.0827863 , 0.3942103 , 0.5230034 ],\n",
       "       [0.44324845, 0.39474162, 0.16200988],\n",
       "       [0.34437802, 0.5011767 , 0.15444526],\n",
       "       [0.22845171, 0.2754419 , 0.49610642],\n",
       "       [0.29775143, 0.11048115, 0.5917674 ],\n",
       "       [0.69646156, 0.07364825, 0.2298902 ],\n",
       "       [0.19872995, 0.6627859 , 0.13848418],\n",
       "       [0.31821164, 0.53501505, 0.14677332],\n",
       "       [0.22094758, 0.59675926, 0.1822932 ],\n",
       "       [0.3348645 , 0.5182585 , 0.14687695],\n",
       "       [0.36109528, 0.18869624, 0.45020846],\n",
       "       [0.6911778 , 0.068593  , 0.24022919],\n",
       "       [0.6037558 , 0.05622406, 0.3400202 ],\n",
       "       [0.5948382 , 0.11410394, 0.29105785],\n",
       "       [0.1403249 , 0.7655689 , 0.09410625],\n",
       "       [0.16469213, 0.7256129 , 0.10969497],\n",
       "       [0.3717108 , 0.478465  , 0.1498242 ],\n",
       "       [0.20637807, 0.15407981, 0.6395421 ],\n",
       "       [0.13490315, 0.7459656 , 0.11913125],\n",
       "       [0.20506518, 0.343443  , 0.45149177],\n",
       "       [0.22036913, 0.6675059 , 0.11212495],\n",
       "       [0.20244505, 0.2445718 , 0.5529831 ],\n",
       "       [0.10168006, 0.14266646, 0.75565344],\n",
       "       [0.35839143, 0.23290789, 0.40870062],\n",
       "       [0.16856843, 0.70286316, 0.12856841],\n",
       "       [0.47553444, 0.21569678, 0.30876878],\n",
       "       [0.64945793, 0.09904563, 0.2514964 ],\n",
       "       [0.5361206 , 0.17696346, 0.2869159 ],\n",
       "       [0.5929153 , 0.1526035 , 0.2544813 ],\n",
       "       [0.1251756 , 0.22914752, 0.64567685],\n",
       "       [0.18265404, 0.2881664 , 0.5291796 ],\n",
       "       [0.49733046, 0.21633253, 0.28633693],\n",
       "       [0.21997096, 0.22443983, 0.5555892 ],\n",
       "       [0.65654147, 0.07173618, 0.27172232],\n",
       "       [0.25141293, 0.584269  , 0.1643181 ]], dtype=float32)"
      ]
     },
     "execution_count": 10,
     "metadata": {},
     "output_type": "execute_result"
    }
   ],
   "source": [
    "#print(test_labels)\n",
    "\n",
    "model.predict(test_data)"
   ]
  },
  {
   "cell_type": "code",
   "execution_count": null,
   "metadata": {},
   "outputs": [],
   "source": []
  }
 ],
 "metadata": {
  "kernelspec": {
   "display_name": "Python 3",
   "language": "python",
   "name": "python3"
  },
  "language_info": {
   "codemirror_mode": {
    "name": "ipython",
    "version": 3
   },
   "file_extension": ".py",
   "mimetype": "text/x-python",
   "name": "python",
   "nbconvert_exporter": "python",
   "pygments_lexer": "ipython3",
   "version": "3.7.3"
  }
 },
 "nbformat": 4,
 "nbformat_minor": 2
}
